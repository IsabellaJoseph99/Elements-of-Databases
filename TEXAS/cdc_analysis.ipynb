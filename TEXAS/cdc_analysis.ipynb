{
 "cells": [
  {
   "cell_type": "code",
   "execution_count": 13,
   "metadata": {},
   "outputs": [
    {
     "name": "stdout",
     "output_type": "stream",
     "text": [
      "BigQuery error in mk operation: Dataset 'sunny-advantage-266802:cdc_modeled'\n",
      "already exists.\n"
     ]
    }
   ],
   "source": [
    "dataset_id = \"cdc_modeled\"\n",
    "!bq --location=US mk --dataset cdc_modeled"
   ]
  },
  {
   "cell_type": "code",
   "execution_count": null,
   "metadata": {},
   "outputs": [],
   "source": [
    "## ------------------------------------------------------------------------------------------ ##"
   ]
  },
  {
   "cell_type": "code",
   "execution_count": null,
   "metadata": {},
   "outputs": [],
   "source": [
    "### QUERY 1\n",
    "### This query is trying to find a relationship between general health and smoking\n",
    "### The query does a group by GENHLTH and averages the value for SMOKDAY2\n",
    "### GENHLTH asks \"Would you say that in general your health is:\"\n",
    "### SMOKDAY2 asks \"Do you now smoke cigarettes every day, some days, or not at all?\"\n",
    "### Rubric: 1 aggregate function, JOIN, GROUP BY, ORDER BY "
   ]
  },
  {
   "cell_type": "code",
   "execution_count": 31,
   "metadata": {},
   "outputs": [
    {
     "data": {
      "text/html": [
       "<div>\n",
       "<style scoped>\n",
       "    .dataframe tbody tr th:only-of-type {\n",
       "        vertical-align: middle;\n",
       "    }\n",
       "\n",
       "    .dataframe tbody tr th {\n",
       "        vertical-align: top;\n",
       "    }\n",
       "\n",
       "    .dataframe thead th {\n",
       "        text-align: right;\n",
       "    }\n",
       "</style>\n",
       "<table border=\"1\" class=\"dataframe\">\n",
       "  <thead>\n",
       "    <tr style=\"text-align: right;\">\n",
       "      <th></th>\n",
       "      <th>GENHLTH</th>\n",
       "      <th>AVERAGE_SMOKDAY2</th>\n",
       "    </tr>\n",
       "  </thead>\n",
       "  <tbody>\n",
       "    <tr>\n",
       "      <th>0</th>\n",
       "      <td>1</td>\n",
       "      <td>0.840105</td>\n",
       "    </tr>\n",
       "    <tr>\n",
       "      <th>1</th>\n",
       "      <td>2</td>\n",
       "      <td>0.919342</td>\n",
       "    </tr>\n",
       "    <tr>\n",
       "      <th>2</th>\n",
       "      <td>3</td>\n",
       "      <td>0.958395</td>\n",
       "    </tr>\n",
       "    <tr>\n",
       "      <th>3</th>\n",
       "      <td>4</td>\n",
       "      <td>1.110300</td>\n",
       "    </tr>\n",
       "    <tr>\n",
       "      <th>4</th>\n",
       "      <td>5</td>\n",
       "      <td>1.264718</td>\n",
       "    </tr>\n",
       "  </tbody>\n",
       "</table>\n",
       "</div>"
      ],
      "text/plain": [
       "   GENHLTH  AVERAGE_SMOKDAY2\n",
       "0        1          0.840105\n",
       "1        2          0.919342\n",
       "2        3          0.958395\n",
       "3        4          1.110300\n",
       "4        5          1.264718"
      ]
     },
     "execution_count": 31,
     "metadata": {},
     "output_type": "execute_result"
    }
   ],
   "source": [
    "%%bigquery\n",
    "select GENHLTH, avg(SMOKDAY2) as AVERAGE_SMOKDAY2\n",
    "from cdc_modeled.OVERALL_Health_Status_Beam_DF e join cdc_modeled.TOBACCO_USE_Beam_DF l\n",
    "on e.SEQNO = l.SEQNO\n",
    "where GENHLTH <>7 and GENHLTH <>9\n",
    "group by GENHLTH \n",
    "order by GENHLTH "
   ]
  },
  {
   "cell_type": "code",
   "execution_count": null,
   "metadata": {},
   "outputs": [],
   "source": [
    "### QUERY 2\n",
    "### This query is trying to find a relationship between physical health and smoking\n",
    "### The query does a group by PHYSHLTH and averages the value for SMOKDAY2\n",
    "### PHYSHLTH asks \"Now thinking about your physical health, which includes physical illness and injury, for how many days during the past\n",
    "### 30 days was your physical health not good?\"\n",
    "### SMOKDAY2 asks \"Do you now smoke cigarettes every day, some days, or not at all?\"\n",
    "### Rubric: 1 aggregate function, JOIN, GROUP BY, ORDER BY"
   ]
  },
  {
   "cell_type": "code",
   "execution_count": 57,
   "metadata": {},
   "outputs": [
    {
     "data": {
      "text/html": [
       "<div>\n",
       "<style scoped>\n",
       "    .dataframe tbody tr th:only-of-type {\n",
       "        vertical-align: middle;\n",
       "    }\n",
       "\n",
       "    .dataframe tbody tr th {\n",
       "        vertical-align: top;\n",
       "    }\n",
       "\n",
       "    .dataframe thead th {\n",
       "        text-align: right;\n",
       "    }\n",
       "</style>\n",
       "<table border=\"1\" class=\"dataframe\">\n",
       "  <thead>\n",
       "    <tr style=\"text-align: right;\">\n",
       "      <th></th>\n",
       "      <th>PHYSHLTH</th>\n",
       "      <th>AVERAGE_SMOKDAY2</th>\n",
       "    </tr>\n",
       "  </thead>\n",
       "  <tbody>\n",
       "    <tr>\n",
       "      <th>0</th>\n",
       "      <td>1</td>\n",
       "      <td>0.867332</td>\n",
       "    </tr>\n",
       "    <tr>\n",
       "      <th>1</th>\n",
       "      <td>2</td>\n",
       "      <td>0.950321</td>\n",
       "    </tr>\n",
       "    <tr>\n",
       "      <th>2</th>\n",
       "      <td>3</td>\n",
       "      <td>0.907970</td>\n",
       "    </tr>\n",
       "    <tr>\n",
       "      <th>3</th>\n",
       "      <td>4</td>\n",
       "      <td>0.968966</td>\n",
       "    </tr>\n",
       "    <tr>\n",
       "      <th>4</th>\n",
       "      <td>5</td>\n",
       "      <td>0.993301</td>\n",
       "    </tr>\n",
       "    <tr>\n",
       "      <th>5</th>\n",
       "      <td>6</td>\n",
       "      <td>0.933673</td>\n",
       "    </tr>\n",
       "    <tr>\n",
       "      <th>6</th>\n",
       "      <td>7</td>\n",
       "      <td>0.992187</td>\n",
       "    </tr>\n",
       "    <tr>\n",
       "      <th>7</th>\n",
       "      <td>8</td>\n",
       "      <td>0.840000</td>\n",
       "    </tr>\n",
       "    <tr>\n",
       "      <th>8</th>\n",
       "      <td>9</td>\n",
       "      <td>1.076923</td>\n",
       "    </tr>\n",
       "    <tr>\n",
       "      <th>9</th>\n",
       "      <td>10</td>\n",
       "      <td>1.126627</td>\n",
       "    </tr>\n",
       "    <tr>\n",
       "      <th>10</th>\n",
       "      <td>11</td>\n",
       "      <td>1.727273</td>\n",
       "    </tr>\n",
       "    <tr>\n",
       "      <th>11</th>\n",
       "      <td>12</td>\n",
       "      <td>1.226667</td>\n",
       "    </tr>\n",
       "  </tbody>\n",
       "</table>\n",
       "</div>"
      ],
      "text/plain": [
       "    PHYSHLTH  AVERAGE_SMOKDAY2\n",
       "0          1          0.867332\n",
       "1          2          0.950321\n",
       "2          3          0.907970\n",
       "3          4          0.968966\n",
       "4          5          0.993301\n",
       "5          6          0.933673\n",
       "6          7          0.992187\n",
       "7          8          0.840000\n",
       "8          9          1.076923\n",
       "9         10          1.126627\n",
       "10        11          1.727273\n",
       "11        12          1.226667"
      ]
     },
     "execution_count": 57,
     "metadata": {},
     "output_type": "execute_result"
    }
   ],
   "source": [
    "%%bigquery\n",
    "select PHYSHLTH, avg(SMOKDAY2) as AVERAGE_SMOKDAY2\n",
    "from cdc_modeled.OVERALL_Health_Status_Beam_DF e join cdc_modeled.TOBACCO_USE_Beam_DF l\n",
    "on e.SEQNO = l.SEQNO\n",
    "where PHYSHLTH <>77 and PHYSHLTH <>99 and PHYSHLTH <>88\n",
    "group by PHYSHLTH\n",
    "order by PHYSHLTH\n",
    "limit 12"
   ]
  },
  {
   "cell_type": "code",
   "execution_count": null,
   "metadata": {},
   "outputs": [],
   "source": [
    "### QUERY 3\n",
    "### This query is trying to find a relationship between mental health and smoking\n",
    "### The query does a group by MENTHLTH and averages the value for SMOKDAY2\n",
    "### MENTHLTH asks \"Now thinking about your mental health, which includes stress, depression, and problems with emotions, for how many\n",
    "### days during the past 30 days was your mental health not good?\"\"\n",
    "### SMOKDAY2 asks \"Do you now smoke cigarettes every day, some days, or not at all?\"\n",
    "### Rubric: 1 aggregate function, JOIN, GROUP BY, ORDER BY\n"
   ]
  },
  {
   "cell_type": "code",
   "execution_count": 58,
   "metadata": {},
   "outputs": [
    {
     "data": {
      "text/html": [
       "<div>\n",
       "<style scoped>\n",
       "    .dataframe tbody tr th:only-of-type {\n",
       "        vertical-align: middle;\n",
       "    }\n",
       "\n",
       "    .dataframe tbody tr th {\n",
       "        vertical-align: top;\n",
       "    }\n",
       "\n",
       "    .dataframe thead th {\n",
       "        text-align: right;\n",
       "    }\n",
       "</style>\n",
       "<table border=\"1\" class=\"dataframe\">\n",
       "  <thead>\n",
       "    <tr style=\"text-align: right;\">\n",
       "      <th></th>\n",
       "      <th>MENTHLTH</th>\n",
       "      <th>AVERAGE_SMOKDAY2</th>\n",
       "    </tr>\n",
       "  </thead>\n",
       "  <tbody>\n",
       "    <tr>\n",
       "      <th>0</th>\n",
       "      <td>1</td>\n",
       "      <td>0.892473</td>\n",
       "    </tr>\n",
       "    <tr>\n",
       "      <th>1</th>\n",
       "      <td>2</td>\n",
       "      <td>0.930801</td>\n",
       "    </tr>\n",
       "    <tr>\n",
       "      <th>2</th>\n",
       "      <td>3</td>\n",
       "      <td>0.907677</td>\n",
       "    </tr>\n",
       "    <tr>\n",
       "      <th>3</th>\n",
       "      <td>4</td>\n",
       "      <td>1.025532</td>\n",
       "    </tr>\n",
       "    <tr>\n",
       "      <th>4</th>\n",
       "      <td>5</td>\n",
       "      <td>0.878428</td>\n",
       "    </tr>\n",
       "    <tr>\n",
       "      <th>5</th>\n",
       "      <td>6</td>\n",
       "      <td>1.008929</td>\n",
       "    </tr>\n",
       "    <tr>\n",
       "      <th>6</th>\n",
       "      <td>7</td>\n",
       "      <td>0.933198</td>\n",
       "    </tr>\n",
       "    <tr>\n",
       "      <th>7</th>\n",
       "      <td>8</td>\n",
       "      <td>1.023077</td>\n",
       "    </tr>\n",
       "    <tr>\n",
       "      <th>8</th>\n",
       "      <td>9</td>\n",
       "      <td>0.750000</td>\n",
       "    </tr>\n",
       "    <tr>\n",
       "      <th>9</th>\n",
       "      <td>10</td>\n",
       "      <td>0.985450</td>\n",
       "    </tr>\n",
       "    <tr>\n",
       "      <th>10</th>\n",
       "      <td>11</td>\n",
       "      <td>1.625000</td>\n",
       "    </tr>\n",
       "    <tr>\n",
       "      <th>11</th>\n",
       "      <td>12</td>\n",
       "      <td>1.044118</td>\n",
       "    </tr>\n",
       "  </tbody>\n",
       "</table>\n",
       "</div>"
      ],
      "text/plain": [
       "    MENTHLTH  AVERAGE_SMOKDAY2\n",
       "0          1          0.892473\n",
       "1          2          0.930801\n",
       "2          3          0.907677\n",
       "3          4          1.025532\n",
       "4          5          0.878428\n",
       "5          6          1.008929\n",
       "6          7          0.933198\n",
       "7          8          1.023077\n",
       "8          9          0.750000\n",
       "9         10          0.985450\n",
       "10        11          1.625000\n",
       "11        12          1.044118"
      ]
     },
     "execution_count": 58,
     "metadata": {},
     "output_type": "execute_result"
    }
   ],
   "source": [
    "%%bigquery\n",
    "select MENTHLTH, avg(SMOKDAY2) as AVERAGE_SMOKDAY2\n",
    "from cdc_modeled.OVERALL_Health_Status_Beam_DF e join cdc_modeled.TOBACCO_USE_Beam_DF l\n",
    "on e.SEQNO = l.SEQNO\n",
    "where MENTHLTH <>77 and MENTHLTH <>99 and MENTHLTH <>88\n",
    "group by MENTHLTH\n",
    "order by MENTHLTH\n",
    "limit 12"
   ]
  },
  {
   "cell_type": "code",
   "execution_count": null,
   "metadata": {},
   "outputs": [],
   "source": [
    "#QUERY 4\n",
    "### This query tries to identify a connection between average number of days smoked and educational level\n",
    "### The query groups by educational level and calculates the average number of days smoked in the past 30 days. \n",
    "### SMOKDAY2 asks \"Do you now smoke cigarettes every day, some days, or not at all?\"\n",
    "### EDUCA asks \"What is the highest grade or year of school you completed?\"\n",
    "### Rubric: 1 aggregate function, JOIN, GROUP BY, HAVING, ORDER BY"
   ]
  },
  {
   "cell_type": "code",
   "execution_count": 59,
   "metadata": {},
   "outputs": [
    {
     "data": {
      "text/html": [
       "<div>\n",
       "<style scoped>\n",
       "    .dataframe tbody tr th:only-of-type {\n",
       "        vertical-align: middle;\n",
       "    }\n",
       "\n",
       "    .dataframe tbody tr th {\n",
       "        vertical-align: top;\n",
       "    }\n",
       "\n",
       "    .dataframe thead th {\n",
       "        text-align: right;\n",
       "    }\n",
       "</style>\n",
       "<table border=\"1\" class=\"dataframe\">\n",
       "  <thead>\n",
       "    <tr style=\"text-align: right;\">\n",
       "      <th></th>\n",
       "      <th>EDUCA</th>\n",
       "      <th>AVERAGE_SMOKDAY2</th>\n",
       "    </tr>\n",
       "  </thead>\n",
       "  <tbody>\n",
       "    <tr>\n",
       "      <th>0</th>\n",
       "      <td>0</td>\n",
       "      <td>0.000000</td>\n",
       "    </tr>\n",
       "    <tr>\n",
       "      <th>1</th>\n",
       "      <td>1</td>\n",
       "      <td>0.794872</td>\n",
       "    </tr>\n",
       "    <tr>\n",
       "      <th>2</th>\n",
       "      <td>2</td>\n",
       "      <td>0.806618</td>\n",
       "    </tr>\n",
       "    <tr>\n",
       "      <th>3</th>\n",
       "      <td>3</td>\n",
       "      <td>0.991085</td>\n",
       "    </tr>\n",
       "    <tr>\n",
       "      <th>4</th>\n",
       "      <td>4</td>\n",
       "      <td>1.019744</td>\n",
       "    </tr>\n",
       "    <tr>\n",
       "      <th>5</th>\n",
       "      <td>5</td>\n",
       "      <td>1.090215</td>\n",
       "    </tr>\n",
       "    <tr>\n",
       "      <th>6</th>\n",
       "      <td>6</td>\n",
       "      <td>0.884424</td>\n",
       "    </tr>\n",
       "  </tbody>\n",
       "</table>\n",
       "</div>"
      ],
      "text/plain": [
       "   EDUCA  AVERAGE_SMOKDAY2\n",
       "0      0          0.000000\n",
       "1      1          0.794872\n",
       "2      2          0.806618\n",
       "3      3          0.991085\n",
       "4      4          1.019744\n",
       "5      5          1.090215\n",
       "6      6          0.884424"
      ]
     },
     "execution_count": 59,
     "metadata": {},
     "output_type": "execute_result"
    }
   ],
   "source": [
    "%%bigquery\n",
    "select EDUCA, AVG(SMOKDAY2) as AVERAGE_SMOKDAY2\n",
    "from cdc_modeled.DEMOGRAPHIC_Beam_DF e join cdc_modeled.TOBACCO_USE_Beam_DF l\n",
    "on e.SEQNO = l.SEQNO\n",
    "group by EDUCA\n",
    "having EDUCA <> 9\n",
    "order by EDUCA"
   ]
  },
  {
   "cell_type": "code",
   "execution_count": null,
   "metadata": {},
   "outputs": [],
   "source": [
    "### QUERY 5\n",
    "### This query calculates the standard deviation of number of days smoked for each educational level. This lets us know the general variation around the mean for each educational level. \n",
    "### The query groups by educational level and then calculates the standard deviation of days smoked in the past 30 days. \n",
    "## SMOKDAY2 asks \"Do you now smoke cigarettes every day, some days, or not at all?\"\n",
    "### EDUCA asks \"What is the highest grade or year of school you completed?\"\n",
    "### Rubric: aggregate function, JOIN, GROUP BY, HAVING, ORDER BY"
   ]
  },
  {
   "cell_type": "code",
   "execution_count": 60,
   "metadata": {},
   "outputs": [
    {
     "data": {
      "text/html": [
       "<div>\n",
       "<style scoped>\n",
       "    .dataframe tbody tr th:only-of-type {\n",
       "        vertical-align: middle;\n",
       "    }\n",
       "\n",
       "    .dataframe tbody tr th {\n",
       "        vertical-align: top;\n",
       "    }\n",
       "\n",
       "    .dataframe thead th {\n",
       "        text-align: right;\n",
       "    }\n",
       "</style>\n",
       "<table border=\"1\" class=\"dataframe\">\n",
       "  <thead>\n",
       "    <tr style=\"text-align: right;\">\n",
       "      <th></th>\n",
       "      <th>EDUCA</th>\n",
       "      <th>STANDARD_DEVIATION_SMOKDAY2</th>\n",
       "    </tr>\n",
       "  </thead>\n",
       "  <tbody>\n",
       "    <tr>\n",
       "      <th>0</th>\n",
       "      <td>3</td>\n",
       "      <td>1.255206</td>\n",
       "    </tr>\n",
       "    <tr>\n",
       "      <th>1</th>\n",
       "      <td>2</td>\n",
       "      <td>1.259355</td>\n",
       "    </tr>\n",
       "    <tr>\n",
       "      <th>2</th>\n",
       "      <td>1</td>\n",
       "      <td>1.273643</td>\n",
       "    </tr>\n",
       "    <tr>\n",
       "      <th>3</th>\n",
       "      <td>4</td>\n",
       "      <td>1.299388</td>\n",
       "    </tr>\n",
       "    <tr>\n",
       "      <th>4</th>\n",
       "      <td>6</td>\n",
       "      <td>1.317229</td>\n",
       "    </tr>\n",
       "    <tr>\n",
       "      <th>5</th>\n",
       "      <td>5</td>\n",
       "      <td>1.343259</td>\n",
       "    </tr>\n",
       "  </tbody>\n",
       "</table>\n",
       "</div>"
      ],
      "text/plain": [
       "   EDUCA  STANDARD_DEVIATION_SMOKDAY2\n",
       "0      3                     1.255206\n",
       "1      2                     1.259355\n",
       "2      1                     1.273643\n",
       "3      4                     1.299388\n",
       "4      6                     1.317229\n",
       "5      5                     1.343259"
      ]
     },
     "execution_count": 60,
     "metadata": {},
     "output_type": "execute_result"
    }
   ],
   "source": [
    "%%bigquery\n",
    "select EDUCA, STDDEV(SMOKDAY2) as STANDARD_DEVIATION_SMOKDAY2\n",
    "from cdc_modeled.DEMOGRAPHIC_Beam_DF e join cdc_modeled.TOBACCO_USE_Beam_DF l\n",
    "on e.SEQNO = l.SEQNO\n",
    "group by EDUCA\n",
    "having EDUCA <> 9 and EDUCA <> 0\n",
    "order by STANDARD_DEVIATION_SMOKDAY2"
   ]
  },
  {
   "cell_type": "code",
   "execution_count": null,
   "metadata": {},
   "outputs": [],
   "source": [
    "#QUERY 6\n",
    "### This query tries to identify a connection between average number of days smoked and number of children the respondant has\n",
    "### The query groups by number of childrenn and calculates the average number of days smoked in the past 30 days. \n",
    "### SMOKDAY2 asks \"Do you now smoke cigarettes every day, some days, or not at all?\"\n",
    "### CHILDREN asks \"How many children less than 18 years of age live in your household?\""
   ]
  },
  {
   "cell_type": "code",
   "execution_count": 61,
   "metadata": {},
   "outputs": [
    {
     "data": {
      "text/html": [
       "<div>\n",
       "<style scoped>\n",
       "    .dataframe tbody tr th:only-of-type {\n",
       "        vertical-align: middle;\n",
       "    }\n",
       "\n",
       "    .dataframe tbody tr th {\n",
       "        vertical-align: top;\n",
       "    }\n",
       "\n",
       "    .dataframe thead th {\n",
       "        text-align: right;\n",
       "    }\n",
       "</style>\n",
       "<table border=\"1\" class=\"dataframe\">\n",
       "  <thead>\n",
       "    <tr style=\"text-align: right;\">\n",
       "      <th></th>\n",
       "      <th>CHILDREN</th>\n",
       "      <th>AVERAGE_SMOKDAY2</th>\n",
       "    </tr>\n",
       "  </thead>\n",
       "  <tbody>\n",
       "    <tr>\n",
       "      <th>0</th>\n",
       "      <td>9</td>\n",
       "      <td>0.000000</td>\n",
       "    </tr>\n",
       "    <tr>\n",
       "      <th>1</th>\n",
       "      <td>0</td>\n",
       "      <td>0.428571</td>\n",
       "    </tr>\n",
       "    <tr>\n",
       "      <th>2</th>\n",
       "      <td>6</td>\n",
       "      <td>0.629032</td>\n",
       "    </tr>\n",
       "    <tr>\n",
       "      <th>3</th>\n",
       "      <td>4</td>\n",
       "      <td>0.658385</td>\n",
       "    </tr>\n",
       "    <tr>\n",
       "      <th>4</th>\n",
       "      <td>7</td>\n",
       "      <td>0.666667</td>\n",
       "    </tr>\n",
       "    <tr>\n",
       "      <th>5</th>\n",
       "      <td>2</td>\n",
       "      <td>0.728722</td>\n",
       "    </tr>\n",
       "    <tr>\n",
       "      <th>6</th>\n",
       "      <td>5</td>\n",
       "      <td>0.740260</td>\n",
       "    </tr>\n",
       "    <tr>\n",
       "      <th>7</th>\n",
       "      <td>3</td>\n",
       "      <td>0.742515</td>\n",
       "    </tr>\n",
       "    <tr>\n",
       "      <th>8</th>\n",
       "      <td>1</td>\n",
       "      <td>0.791384</td>\n",
       "    </tr>\n",
       "    <tr>\n",
       "      <th>9</th>\n",
       "      <td>8</td>\n",
       "      <td>1.142857</td>\n",
       "    </tr>\n",
       "    <tr>\n",
       "      <th>10</th>\n",
       "      <td>10</td>\n",
       "      <td>2.500000</td>\n",
       "    </tr>\n",
       "  </tbody>\n",
       "</table>\n",
       "</div>"
      ],
      "text/plain": [
       "    CHILDREN  AVERAGE_SMOKDAY2\n",
       "0          9          0.000000\n",
       "1          0          0.428571\n",
       "2          6          0.629032\n",
       "3          4          0.658385\n",
       "4          7          0.666667\n",
       "5          2          0.728722\n",
       "6          5          0.740260\n",
       "7          3          0.742515\n",
       "8          1          0.791384\n",
       "9          8          1.142857\n",
       "10        10          2.500000"
      ]
     },
     "execution_count": 61,
     "metadata": {},
     "output_type": "execute_result"
    }
   ],
   "source": [
    "%%bigquery\n",
    "select CHILDREN, avg(SMOKDAY2) as AVERAGE_SMOKDAY2\n",
    "from cdc_modeled.DEMOGRAPHIC_Beam_DF e join cdc_modeled.TOBACCO_USE_Beam_DF l\n",
    "on e.SEQNO = l.SEQNO\n",
    "where CHILDREN <> 99 and CHILDREN <> 88\n",
    "group by CHILDREN\n",
    "order by AVERAGE_SMOKDAY2"
   ]
  },
  {
   "cell_type": "code",
   "execution_count": null,
   "metadata": {},
   "outputs": [],
   "source": [
    "### CREATING VIEWS"
   ]
  },
  {
   "cell_type": "code",
   "execution_count": null,
   "metadata": {},
   "outputs": [],
   "source": [
    "### The first view is to plot smoking against general health."
   ]
  },
  {
   "cell_type": "code",
   "execution_count": 66,
   "metadata": {},
   "outputs": [
    {
     "data": {
      "text/html": [
       "<div>\n",
       "<style scoped>\n",
       "    .dataframe tbody tr th:only-of-type {\n",
       "        vertical-align: middle;\n",
       "    }\n",
       "\n",
       "    .dataframe tbody tr th {\n",
       "        vertical-align: top;\n",
       "    }\n",
       "\n",
       "    .dataframe thead th {\n",
       "        text-align: right;\n",
       "    }\n",
       "</style>\n",
       "<table border=\"1\" class=\"dataframe\">\n",
       "  <thead>\n",
       "    <tr style=\"text-align: right;\">\n",
       "      <th></th>\n",
       "    </tr>\n",
       "  </thead>\n",
       "  <tbody>\n",
       "  </tbody>\n",
       "</table>\n",
       "</div>"
      ],
      "text/plain": [
       "Empty DataFrame\n",
       "Columns: []\n",
       "Index: []"
      ]
     },
     "execution_count": 66,
     "metadata": {},
     "output_type": "execute_result"
    }
   ],
   "source": [
    "%%bigquery\n",
    "create or replace view cdc_modeled.v_Relationship_between_SMOKING_and_GENERAL_HEALTH as\n",
    "select GENHLTH, avg(SMOKDAY2) as AVERAGE_SMOKDAY2\n",
    "from `sunny-advantage-266802.cdc_modeled.OVERALL_Health_Status_Beam_DF` e join `sunny-advantage-266802.cdc_modeled.TOBACCO_USE_Beam_DF` l\n",
    "on e.SEQNO = l.SEQNO\n",
    "where GENHLTH <>7 and GENHLTH <>9\n",
    "group by GENHLTH \n",
    "order by GENHLTH "
   ]
  },
  {
   "cell_type": "code",
   "execution_count": null,
   "metadata": {},
   "outputs": [],
   "source": [
    "### We made this view just for fun. This view is not included in the report.\n",
    "### The next view is to plot smoking against physical health."
   ]
  },
  {
   "cell_type": "code",
   "execution_count": 67,
   "metadata": {},
   "outputs": [
    {
     "data": {
      "text/html": [
       "<div>\n",
       "<style scoped>\n",
       "    .dataframe tbody tr th:only-of-type {\n",
       "        vertical-align: middle;\n",
       "    }\n",
       "\n",
       "    .dataframe tbody tr th {\n",
       "        vertical-align: top;\n",
       "    }\n",
       "\n",
       "    .dataframe thead th {\n",
       "        text-align: right;\n",
       "    }\n",
       "</style>\n",
       "<table border=\"1\" class=\"dataframe\">\n",
       "  <thead>\n",
       "    <tr style=\"text-align: right;\">\n",
       "      <th></th>\n",
       "    </tr>\n",
       "  </thead>\n",
       "  <tbody>\n",
       "  </tbody>\n",
       "</table>\n",
       "</div>"
      ],
      "text/plain": [
       "Empty DataFrame\n",
       "Columns: []\n",
       "Index: []"
      ]
     },
     "execution_count": 67,
     "metadata": {},
     "output_type": "execute_result"
    }
   ],
   "source": [
    "%%bigquery\n",
    "create or replace view cdc_modeled.v_Relationship_between_SMOKING_and_PHYSICAL_HEALTH as\n",
    "select PHYSHLTH, avg(SMOKDAY2) as AVERAGE_SMOKDAY2\n",
    "from `sunny-advantage-266802.cdc_modeled.OVERALL_Health_Status_Beam_DF` e join `sunny-advantage-266802.cdc_modeled.TOBACCO_USE_Beam_DF` l\n",
    "on e.SEQNO = l.SEQNO\n",
    "where PHYSHLTH <>77 and PHYSHLTH <>99 and PHYSHLTH <>88\n",
    "group by PHYSHLTH\n",
    "order by PHYSHLTH"
   ]
  },
  {
   "cell_type": "code",
   "execution_count": null,
   "metadata": {},
   "outputs": [],
   "source": [
    "### We made this view just for fun. This view is not included in the report.\n",
    "### The next view is to plot smoking against mental health health."
   ]
  },
  {
   "cell_type": "code",
   "execution_count": 69,
   "metadata": {},
   "outputs": [
    {
     "data": {
      "text/html": [
       "<div>\n",
       "<style scoped>\n",
       "    .dataframe tbody tr th:only-of-type {\n",
       "        vertical-align: middle;\n",
       "    }\n",
       "\n",
       "    .dataframe tbody tr th {\n",
       "        vertical-align: top;\n",
       "    }\n",
       "\n",
       "    .dataframe thead th {\n",
       "        text-align: right;\n",
       "    }\n",
       "</style>\n",
       "<table border=\"1\" class=\"dataframe\">\n",
       "  <thead>\n",
       "    <tr style=\"text-align: right;\">\n",
       "      <th></th>\n",
       "    </tr>\n",
       "  </thead>\n",
       "  <tbody>\n",
       "  </tbody>\n",
       "</table>\n",
       "</div>"
      ],
      "text/plain": [
       "Empty DataFrame\n",
       "Columns: []\n",
       "Index: []"
      ]
     },
     "execution_count": 69,
     "metadata": {},
     "output_type": "execute_result"
    }
   ],
   "source": [
    "%%bigquery\n",
    "create or replace view cdc_modeled.v_Relationship_between_SMOKING_and_MENTAL_HEALTH as\n",
    "select MENTHLTH, avg(SMOKDAY2) as AVERAGE_SMOKDAY2\n",
    "from `sunny-advantage-266802.cdc_modeled.OVERALL_Health_Status_Beam_DF` e join `sunny-advantage-266802.cdc_modeled.TOBACCO_USE_Beam_DF` l\n",
    "on e.SEQNO = l.SEQNO\n",
    "where MENTHLTH <>77 and MENTHLTH <>99 and MENTHLTH <>88\n",
    "group by MENTHLTH\n",
    "order by MENTHLTH"
   ]
  },
  {
   "cell_type": "code",
   "execution_count": null,
   "metadata": {},
   "outputs": [],
   "source": [
    "### The second view is to plot smoking against education."
   ]
  },
  {
   "cell_type": "code",
   "execution_count": 70,
   "metadata": {},
   "outputs": [
    {
     "data": {
      "text/html": [
       "<div>\n",
       "<style scoped>\n",
       "    .dataframe tbody tr th:only-of-type {\n",
       "        vertical-align: middle;\n",
       "    }\n",
       "\n",
       "    .dataframe tbody tr th {\n",
       "        vertical-align: top;\n",
       "    }\n",
       "\n",
       "    .dataframe thead th {\n",
       "        text-align: right;\n",
       "    }\n",
       "</style>\n",
       "<table border=\"1\" class=\"dataframe\">\n",
       "  <thead>\n",
       "    <tr style=\"text-align: right;\">\n",
       "      <th></th>\n",
       "    </tr>\n",
       "  </thead>\n",
       "  <tbody>\n",
       "  </tbody>\n",
       "</table>\n",
       "</div>"
      ],
      "text/plain": [
       "Empty DataFrame\n",
       "Columns: []\n",
       "Index: []"
      ]
     },
     "execution_count": 70,
     "metadata": {},
     "output_type": "execute_result"
    }
   ],
   "source": [
    "%%bigquery\n",
    "create or replace view cdc_modeled.v_Relationship_between_SMOKING_and_EDUCATION as\n",
    "select EDUCA, AVG(SMOKDAY2) as AVERAGE_SMOKDAY2\n",
    "from `sunny-advantage-266802.cdc_modeled.DEMOGRAPHIC_Beam_DF` e join `sunny-advantage-266802.cdc_modeled.TOBACCO_USE_Beam_DF` l\n",
    "on e.SEQNO = l.SEQNO\n",
    "group by EDUCA\n",
    "having EDUCA <> 9\n",
    "order by EDUCA"
   ]
  },
  {
   "cell_type": "markdown",
   "metadata": {},
   "source": [
    "### Milestone 8"
   ]
  },
  {
   "cell_type": "code",
   "execution_count": null,
   "metadata": {},
   "outputs": [],
   "source": [
    "### QUERY 1\n",
    "### This query finds the average rate of smoking in men"
   ]
  },
  {
   "cell_type": "code",
   "execution_count": 7,
   "metadata": {},
   "outputs": [
    {
     "data": {
      "text/html": [
       "<div>\n",
       "<style scoped>\n",
       "    .dataframe tbody tr th:only-of-type {\n",
       "        vertical-align: middle;\n",
       "    }\n",
       "\n",
       "    .dataframe tbody tr th {\n",
       "        vertical-align: top;\n",
       "    }\n",
       "\n",
       "    .dataframe thead th {\n",
       "        text-align: right;\n",
       "    }\n",
       "</style>\n",
       "<table border=\"1\" class=\"dataframe\">\n",
       "  <thead>\n",
       "    <tr style=\"text-align: right;\">\n",
       "      <th></th>\n",
       "    </tr>\n",
       "  </thead>\n",
       "  <tbody>\n",
       "  </tbody>\n",
       "</table>\n",
       "</div>"
      ],
      "text/plain": [
       "Empty DataFrame\n",
       "Columns: []\n",
       "Index: []"
      ]
     },
     "execution_count": 7,
     "metadata": {},
     "output_type": "execute_result"
    }
   ],
   "source": [
    "%%bigquery\n",
    "create or replace view cdc_modeled.v_Average_smoking_in_men as\n",
    "select AVG(SMOKDAY2) as AVERAGE_SMOKDAY2_MEN from `sunny-advantage-266802.cdc_modeled.TOBACCO_USE_Beam_DF` a \n",
    "where a.SEQNO in\n",
    "(select b.SEQNO from `sunny-advantage-266802.cdc_modeled.DEMOGRAPHIC_Beam_DF` b where b.SEX = 1)"
   ]
  },
  {
   "cell_type": "code",
   "execution_count": null,
   "metadata": {},
   "outputs": [],
   "source": [
    "### QUERY 2\n",
    "### This query finds the average rate of smoking in women"
   ]
  },
  {
   "cell_type": "code",
   "execution_count": 8,
   "metadata": {},
   "outputs": [
    {
     "data": {
      "text/html": [
       "<div>\n",
       "<style scoped>\n",
       "    .dataframe tbody tr th:only-of-type {\n",
       "        vertical-align: middle;\n",
       "    }\n",
       "\n",
       "    .dataframe tbody tr th {\n",
       "        vertical-align: top;\n",
       "    }\n",
       "\n",
       "    .dataframe thead th {\n",
       "        text-align: right;\n",
       "    }\n",
       "</style>\n",
       "<table border=\"1\" class=\"dataframe\">\n",
       "  <thead>\n",
       "    <tr style=\"text-align: right;\">\n",
       "      <th></th>\n",
       "    </tr>\n",
       "  </thead>\n",
       "  <tbody>\n",
       "  </tbody>\n",
       "</table>\n",
       "</div>"
      ],
      "text/plain": [
       "Empty DataFrame\n",
       "Columns: []\n",
       "Index: []"
      ]
     },
     "execution_count": 8,
     "metadata": {},
     "output_type": "execute_result"
    }
   ],
   "source": [
    "%%bigquery\n",
    "create or replace view cdc_modeled.v_Average_smoking_in_women as\n",
    "select AVG(SMOKDAY2) as AVERAGE_SMOKDAY2_MEN from `sunny-advantage-266802.cdc_modeled.TOBACCO_USE_Beam_DF` a \n",
    "where a.SEQNO in\n",
    "(select b.SEQNO from `sunny-advantage-266802.cdc_modeled.DEMOGRAPHIC_Beam_DF` b where b.SEX = 2)"
   ]
  },
  {
   "cell_type": "code",
   "execution_count": null,
   "metadata": {},
   "outputs": [],
   "source": [
    "### QUERY 3\n",
    "### This query looks at the relationship between income and health plan in married individuals"
   ]
  },
  {
   "cell_type": "code",
   "execution_count": 29,
   "metadata": {},
   "outputs": [
    {
     "data": {
      "text/html": [
       "<div>\n",
       "<style scoped>\n",
       "    .dataframe tbody tr th:only-of-type {\n",
       "        vertical-align: middle;\n",
       "    }\n",
       "\n",
       "    .dataframe tbody tr th {\n",
       "        vertical-align: top;\n",
       "    }\n",
       "\n",
       "    .dataframe thead th {\n",
       "        text-align: right;\n",
       "    }\n",
       "</style>\n",
       "<table border=\"1\" class=\"dataframe\">\n",
       "  <thead>\n",
       "    <tr style=\"text-align: right;\">\n",
       "      <th></th>\n",
       "    </tr>\n",
       "  </thead>\n",
       "  <tbody>\n",
       "  </tbody>\n",
       "</table>\n",
       "</div>"
      ],
      "text/plain": [
       "Empty DataFrame\n",
       "Columns: []\n",
       "Index: []"
      ]
     },
     "execution_count": 29,
     "metadata": {},
     "output_type": "execute_result"
    }
   ],
   "source": [
    "%%bigquery\n",
    "create or replace view cdc_modeled.v_Relationship_between_INCOME2_and_GENHLTH as\n",
    "select INCOME2, GENHLTH from `sunny-advantage-266802.cdc_modeled.DEMOGRAPHIC_Beam_DF` e join `sunny-advantage-266802.cdc_modeled.OVERALL_Health_Status_Beam_DF` l\n",
    "on e.SEQNO = l.SEQNO \n",
    "where e.SEQNO in (select b.SEQNO from `sunny-advantage-266802.cdc_modeled.DEMOGRAPHIC_Beam_DF` b where b.MARITAL = 1) \n",
    "and INCOME2 <> 77 and INCOME2 <> 99\n",
    "and GENHLTH <>7 and GENHLTH <>9\n",
    "order by INCOME2"
   ]
  },
  {
   "cell_type": "code",
   "execution_count": null,
   "metadata": {},
   "outputs": [],
   "source": [
    "### QUERY 4\n",
    "### This query looks at the relationship between income and mental health in divorced individuals"
   ]
  },
  {
   "cell_type": "code",
   "execution_count": 30,
   "metadata": {},
   "outputs": [
    {
     "data": {
      "text/html": [
       "<div>\n",
       "<style scoped>\n",
       "    .dataframe tbody tr th:only-of-type {\n",
       "        vertical-align: middle;\n",
       "    }\n",
       "\n",
       "    .dataframe tbody tr th {\n",
       "        vertical-align: top;\n",
       "    }\n",
       "\n",
       "    .dataframe thead th {\n",
       "        text-align: right;\n",
       "    }\n",
       "</style>\n",
       "<table border=\"1\" class=\"dataframe\">\n",
       "  <thead>\n",
       "    <tr style=\"text-align: right;\">\n",
       "      <th></th>\n",
       "    </tr>\n",
       "  </thead>\n",
       "  <tbody>\n",
       "  </tbody>\n",
       "</table>\n",
       "</div>"
      ],
      "text/plain": [
       "Empty DataFrame\n",
       "Columns: []\n",
       "Index: []"
      ]
     },
     "execution_count": 30,
     "metadata": {},
     "output_type": "execute_result"
    }
   ],
   "source": [
    "%%bigquery\n",
    "create or replace view cdc_modeled.v_Relationship_between_INCOME2_and_MENTHLTH as\n",
    "select INCOME2, MENTHLTH from `sunny-advantage-266802.cdc_modeled.DEMOGRAPHIC_Beam_DF` e join `sunny-advantage-266802.cdc_modeled.OVERALL_Health_Status_Beam_DF` l\n",
    "on e.SEQNO = l.SEQNO \n",
    "where e.SEQNO in (select b.SEQNO from `sunny-advantage-266802.cdc_modeled.DEMOGRAPHIC_Beam_DF` b where b.MARITAL = 2) \n",
    "and INCOME2 <> 77 and INCOME2 <> 99\n",
    "and MENTHLTH <>77 and MENTHLTH <>88 and MENTHLTH <>99\n",
    "order by GENHLTH"
   ]
  }
 ],
 "metadata": {
  "kernelspec": {
   "display_name": "Python 3",
   "language": "python",
   "name": "python3"
  },
  "language_info": {
   "codemirror_mode": {
    "name": "ipython",
    "version": 3
   },
   "file_extension": ".py",
   "mimetype": "text/x-python",
   "name": "python",
   "nbconvert_exporter": "python",
   "pygments_lexer": "ipython3",
   "version": "3.5.3"
  }
 },
 "nbformat": 4,
 "nbformat_minor": 4
}
